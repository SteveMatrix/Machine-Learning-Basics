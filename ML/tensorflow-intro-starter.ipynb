{
 "cells": [
  {
   "cell_type": "code",
   "execution_count": null,
   "metadata": {
    "collapsed": true
   },
   "outputs": [],
   "source": [
    ""
   ]
  },
  {
   "cell_type": "code",
   "execution_count": 2,
   "metadata": {},
   "outputs": [],
   "source": [
    "# TODO: Add imports.\n",
    "import tensorflow as tf"
   ]
  },
  {
   "cell_type": "markdown",
   "metadata": {},
   "source": [
    "Clear the Graph\n",
    "---\n",
    "Clear the default graph to reset everything back to default"
   ]
  },
  {
   "cell_type": "code",
   "execution_count": 3,
   "metadata": {},
   "outputs": [],
   "source": [
    "# TODO: Clear the tensorflow graph\n",
    "tf.reset_default_graph()"
   ]
  },
  {
   "cell_type": "markdown",
   "metadata": {},
   "source": [
    "Set up Placeholders\n",
    "---\n",
    "Placeholders are places you can feed data into your model. They indicate a value that you'll feed in later when the network is run."
   ]
  },
  {
   "cell_type": "code",
   "execution_count": 12,
   "metadata": {},
   "outputs": [],
   "source": [
    "# TODO: Create placeholders\n",
    "from numpy.core.multiarray import dtype\n",
    "\n",
    "input_data = tf.placeholder(dtype = tf.float32, shape = None)\n",
    "output_data = tf.placeholder(dtype = tf.float32, shape = None)"
   ]
  },
  {
   "cell_type": "markdown",
   "metadata": {},
   "source": [
    "Variables\n",
    "---\n",
    "Variables keep their value between runs. These are the building blocks of machine learning, and represent the parameters that will be tuned as your model trains"
   ]
  },
  {
   "cell_type": "code",
   "execution_count": 17,
   "metadata": {},
   "outputs": [],
   "source": [
    "# TODO: Create variables\n",
    "slope = tf.Variable(0.5, dtype=tf.float32)\n",
    "intercept = tf.Variable(0.1, dtype=tf.float32)\n",
    "\n",
    "model_operation = slope * input_data + intercept\n",
    "\n",
    "error = model_operation - output_data\n",
    "squared_error = tf.square(error)\n",
    "loss = tf.reduce_mean(squared_error)\n",
    "\n",
    "optimizer = tf.train.GradientDescentOptimizer(learning_rate=0.1)\n",
    "train = optimizer.minimize(loss)"
   ]
  },
  {
   "cell_type": "markdown",
   "metadata": {},
   "source": [
    "Running a Session\n",
    "---\n",
    "Once your graph is built, you can start a session. Putting the session in a `with` statement allows the session to automatically close once the statement finishes:\n",
    "```\n",
    "with tf.Session() as sess:\n",
    "    # Run the session in here\n",
    "    ...\n",
    "# Session closes when you get here\n",
    "```"
   ]
  },
  {
   "cell_type": "code",
   "execution_count": 20,
   "metadata": {
    "collapsed": false
   },
   "outputs": [
    {
     "name": "stdout",
     "output_type": "stream",
     "text": [
      "[0.5, 0.1]\nslope and intercept:\n[0.521600001025945, 0.10780000037048013]\nloss:\n19.18613409528557\nslope and intercept:\n[1.6961603190203245, 0.5414669208139208]\nloss:\n1.3214460731289595\nslope and intercept:\n[1.9962268226222244, 0.6671229868442154]\nloss:\n0.11591654315514503\n"
     ]
    },
    {
     "name": "stdout",
     "output_type": "stream",
     "text": [
      "slope and intercept:\n[2.069715347370393, 0.7121175381855505]\nloss:\n0.031758386465242414\nslope and intercept:\n[2.0846811397616256, 0.7354696931296192]\nloss:\n0.023398744291799976\nslope and intercept:\n[2.084703480593951, 0.7525307875229474]\nloss:\n0.02044307432579019\nslope and intercept:\n[2.081073165330665, 0.7673222269589746]\nloss:\n0.01812040063762697\n"
     ]
    },
    {
     "name": "stdout",
     "output_type": "stream",
     "text": [
      "slope and intercept:\n[2.076706084877413, 0.7809241348063058]\nloss:\n0.016079367813130168\nslope and intercept:\n"
     ]
    },
    {
     "name": "stdout",
     "output_type": "stream",
     "text": [
      "[2.0723464134213336, 0.7936515172734933]\nloss:\n0.014269426972327488\nslope and intercept:\n[2.0681756850893795, 0.8056188894483213]\nloss:\n0.012663298842560991\nslope and intercept:\n[2.064230150850911, 0.8168868574661826]\nloss:\n0.011237957567668964\nslope and intercept:\n[2.0605090031411466, 0.8275002524239463]\nloss:\n0.009973048608908238\n"
     ]
    },
    {
     "name": "stdout",
     "output_type": "stream",
     "text": [
      "slope and intercept:\n[2.05700241314947, 0.8374981261982009]\nloss:\n0.008850513826220315\nslope and intercept:\n[2.053698769451514, 0.8469164421652333]\nloss:\n0.007854328007044858\nslope and intercept:\n[2.050586523413286, 0.855788865295544]\nloss:\n0.0069702697102703316\n"
     ]
    },
    {
     "name": "stdout",
     "output_type": "stream",
     "text": [
      "slope and intercept:\n[2.047654637453182, 0.864147053883194]\nloss:\n0.006185718216808856\n"
     ]
    },
    {
     "name": "stdout",
     "output_type": "stream",
     "text": [
      "slope and intercept:\n[2.0448926726465677, 0.8720208169687244]\nloss:\n0.0054894733558711675\nslope and intercept:\n[2.0422907844370077, 0.8794382321847766]\nloss:\n0.004871595612443812\nslope and intercept:\n[2.03983969607585, 0.8864257488719451]\nloss:\n0.004323264231859186\nslope and intercept:\n[2.0375306677593743, 0.8930082831690435]\nloss:\n0.0038366512956720784\n"
     ]
    },
    {
     "name": "stdout",
     "output_type": "stream",
     "text": [
      "0.0034088781103445527\n"
     ]
    }
   ],
   "source": [
    "# TODO: Run a session\n",
    " \n",
    "init = tf.global_variables_initializer()\n",
    " \n",
    "x_values = [0, 1, 2, 3, 4]\n",
    "y_values = [1, 3, 5, 7, 9]\n",
    "\n",
    "new_x = [0, 1, 2, 3, 4]\n",
    "new_y = [1, 3, 5, 7, 9]\n",
    "\n",
    " \n",
    "with tf.Session() as sess:\n",
    "    sess.run(init)\n",
    "    print(sess.run([slope, intercept]))\n",
    "    for i in range(2000):\n",
    "        sess.run(train, feed_dict={input_data:x_values, output_data:y_values})\n",
    "        if i % 100 == 0:\n",
    "            print(\"slope and intercept:\")\n",
    "            print(sess.run([slope, intercept]))\n",
    "            print(\"loss:\")\n",
    "            print(sess.run(loss, feed_dict={input_data:x_values, output_data:y_values}))\n",
    "    print(sess.run(loss, feed_dict={input_data:x_values, output_data:y_values}))"
   ]
  },
  {
   "cell_type": "markdown",
   "metadata": {},
   "source": [
    "Neurons and Neural Networks\n",
    "---\n",
    "Tensorflow provides functions to easily create layers of neurons for a neural network."
   ]
  },
  {
   "cell_type": "code",
   "execution_count": 15,
   "metadata": {},
   "outputs": [],
   "source": [
    ""
   ]
  },
  {
   "cell_type": "code",
   "execution_count": 15,
   "metadata": {},
   "outputs": [],
   "source": []
  },
  {
   "cell_type": "code",
   "execution_count": null,
   "metadata": {},
   "outputs": [],
   "source": []
  }
 ],
 "metadata": {
  "kernelspec": {
   "display_name": "Python 2",
   "language": "python",
   "name": "python2"
  },
  "language_info": {
   "codemirror_mode": {
    "name": "ipython",
    "version": 2
   },
   "file_extension": ".py",
   "mimetype": "text/x-python",
   "name": "python",
   "nbconvert_exporter": "python",
   "pygments_lexer": "ipython2",
   "version": "2.7.6"
  }
 },
 "nbformat": 4,
 "nbformat_minor": 0
}
